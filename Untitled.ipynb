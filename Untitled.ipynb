{
 "cells": [
  {
   "cell_type": "markdown",
   "id": "6ead780b-5ae0-4035-af9f-f1bcd8dd369e",
   "metadata": {},
   "source": [
    "Ammar Alzureiqi - ammar3@illinois.edu Ahmed Elfarra - ahmedse2@illinois.edu\n",
    "\n",
    "Website link: https://movie-recommender-aa.streamlit.app/"
   ]
  },
  {
   "cell_type": "code",
   "execution_count": 1,
   "id": "9dffc82e-f3c0-4d9b-80a5-633836787b9d",
   "metadata": {},
   "outputs": [],
   "source": [
    "import pandas as pd\n",
    "import numpy as np\n",
    "import requests\n",
    "from PIL import Image\n",
    "from sklearn.metrics.pairwise import cosine_similarity\n",
    "import heapq"
   ]
  },
  {
   "cell_type": "markdown",
   "id": "3c91f975-2488-4ce4-b3d6-a779dfb9de77",
   "metadata": {},
   "source": [
    "# Helper Functions"
   ]
  },
  {
   "cell_type": "markdown",
   "id": "e61a28ac-db1c-4c9b-a7cd-dbff4150cd5a",
   "metadata": {},
   "source": [
    "Not all used in this file, but used in the streamlit web app"
   ]
  },
  {
   "cell_type": "code",
   "execution_count": 2,
   "id": "ed3b18bc-84ce-4f59-ad8b-c363ffc89237",
   "metadata": {},
   "outputs": [],
   "source": [
    "def get_displayed_movies():\n",
    "    return movies.head(50)\n",
    "\n",
    "def get_recommended_movies(new_user_ratings):\n",
    "    return movies.head(10)\n",
    "\n",
    "def get_popular_movies(genre: str):\n",
    "    if genre == genres[1]:\n",
    "        return movies.head(10)\n",
    "    else: \n",
    "        return movies[10:20]\n",
    "\n",
    "def get_movie_image_url(movie_id):\n",
    "    img = Image.open(f\"movies_folder/{movie_id}.jpg\")\n",
    "    return img\n",
    "\n",
    "# Function to get top movies for the selected genre\n",
    "def get_top_movies(genre, movie_stats, movies, top_n=10):\n",
    "    # Filter movies by the selected genre\n",
    "    genre_movies = movies[movies['Genres'].str.contains(genre)]\n",
    "    \n",
    "    # Join with the movie stats\n",
    "    genre_movies_stats = genre_movies.join(movie_stats, on='MovieID')\n",
    "    \n",
    "    # Filter movies with more than a threshold of ratings to avoid movies with few high ratings\n",
    "    popular_movies = genre_movies_stats[genre_movies_stats['count'] > 100]\n",
    "    \n",
    "    # Get the top N movies by average rating\n",
    "    top_movies = popular_movies.sort_values(by='mean', ascending=False).head(top_n)\n",
    "    return top_movies\n",
    "\n",
    "def rating_to_stars(rating):\n",
    "    full_stars = int(rating)\n",
    "    half_star = \"⭐\" if rating - full_stars >= 0.5 else \"\"\n",
    "    return '⭐' * full_stars + half_star\n",
    "\n",
    "def myIBCF(newuser):\n",
    "    S_top30 = pd.read_csv('modified_similarity_matrix.csv')\n",
    "    S_top30 = S_top30.iloc[:,1:]\n",
    "    pred = pd.DataFrame(index=range(3706))\n",
    "    \n",
    "    pred = []\n",
    "    for i in range(3706):\n",
    "        Sl = S_top30.iloc[:, i]\n",
    "        if sum(np.isfinite(Sl) & np.isfinite(newuser)) == 1:\n",
    "            result = Sl[(np.isfinite(Sl) & np.isfinite(newuser))] * newuser[(np.isfinite(Sl) & np.isfinite(newuser))]\n",
    "            result = (1 / np.nansum(Sl[np.isfinite(newuser)])) * result\n",
    "            pred.append(result.iloc[0])\n",
    "        elif sum(np.isfinite(Sl) & np.isfinite(newuser)) == 0:\n",
    "            result = 0\n",
    "            pred.append(result)\n",
    "        else:\n",
    "            result = np.nansum(np.multiply(Sl, newuser))\n",
    "            result = (1 / np.nansum(Sl[np.isfinite(newuser)])) * result\n",
    "            pred.append(result)\n",
    "\n",
    "    nan_positions = np.isnan(newuser)\n",
    "    \n",
    "    # Replace NaN values in 'w' with corresponding values from 'pred'\n",
    "    newuser = [pred_value if is_nan else w_value for w_value, pred_value, is_nan in zip(newuser, pred, nan_positions)]\n",
    "    \n",
    "    top_10_indices_and_values = heapq.nlargest(10, enumerate(newuser), key=lambda x: x[1])\n",
    "    \n",
    "    # Unpack the result into separate lists of indices and values\n",
    "    top_10_indices, top_10_values = zip(*top_10_indices_and_values)\n",
    "\n",
    "    return S_top30.columns[list(top_10_indices)]"
   ]
  },
  {
   "cell_type": "markdown",
   "id": "4537481b-3cf4-45e3-b137-1001320a8815",
   "metadata": {},
   "source": [
    "# System 1"
   ]
  },
  {
   "cell_type": "markdown",
   "id": "43bc0c53-172c-496d-b760-9ce7f344cd61",
   "metadata": {},
   "source": [
    "Here we select the top 10 movies of each genre based on a weighted average of the ratings via:\n",
    "\n",
    "(mean_ratings * count) / (count + median)\n",
    "\n",
    "where:\n",
    "\n",
    "- mean_ratings is the mean of the ratings for the movie\n",
    "- count is the number of reviews for this movie\n",
    "- median is the median number of reviews for movies in this genre\n",
    "  \n",
    "This weighted rating is how we deal with movies that receive only one 5-point review be considered highly rated and such.\n",
    "\n",
    "(notes: the get_top_movies function was altered from the one above used in streamlit in order for it to work in the notebook)"
   ]
  },
  {
   "cell_type": "code",
   "execution_count": 3,
   "id": "37a35f87-1d16-40c1-b48b-bbaeb7b3513d",
   "metadata": {},
   "outputs": [
    {
     "name": "stdout",
     "output_type": "stream",
     "text": [
      "Top 10 Highly-Rated Movies in Sci-Fi\n",
      "Star Wars: Episode IV - A New Hope (1977)\n",
      "Rating: ⭐⭐⭐ (3.4)\n",
      "<PIL.JpegImagePlugin.JpegImageFile image mode=RGB size=185x278 at 0x1578EDDD0>\n",
      "\n",
      "\n",
      "Star Wars: Episode V - The Empire Strikes Back (1980)\n",
      "Rating: ⭐⭐⭐ (3.2)\n",
      "<PIL.JpegImagePlugin.JpegImageFile image mode=RGB size=185x278 at 0x157811CD0>\n",
      "\n",
      "\n",
      "Matrix, The (1999)\n",
      "Rating: ⭐⭐⭐ (3.1)\n",
      "<PIL.JpegImagePlugin.JpegImageFile image mode=RGB size=185x278 at 0x1578FFE50>\n",
      "\n",
      "\n",
      "Star Wars: Episode VI - Return of the Jedi (1983)\n",
      "Rating: ⭐⭐⭐ (3.0)\n",
      "<PIL.JpegImagePlugin.JpegImageFile image mode=RGB size=185x278 at 0x1578AB150>\n",
      "\n",
      "\n",
      "Terminator 2: Judgment Day (1991)\n",
      "Rating: ⭐⭐⭐ (3.0)\n",
      "<PIL.JpegImagePlugin.JpegImageFile image mode=RGB size=185x278 at 0x1578A9E10>\n",
      "\n",
      "\n",
      "Back to the Future (1985)\n",
      "Rating: ⭐⭐⭐ (2.9)\n",
      "<PIL.JpegImagePlugin.JpegImageFile image mode=RGB size=185x278 at 0x1578FD490>\n",
      "\n",
      "\n",
      "Terminator, The (1984)\n",
      "Rating: ⭐⭐⭐ (2.8)\n",
      "<PIL.JpegImagePlugin.JpegImageFile image mode=RGB size=185x278 at 0x1578AA890>\n",
      "\n",
      "\n",
      "Alien (1979)\n",
      "Rating: ⭐⭐⭐ (2.8)\n",
      "<PIL.JpegImagePlugin.JpegImageFile image mode=RGB size=185x278 at 0x1578AB1D0>\n",
      "\n",
      "\n",
      "E.T. the Extra-Terrestrial (1982)\n",
      "Rating: ⭐⭐⭐ (2.8)\n",
      "<PIL.JpegImagePlugin.JpegImageFile image mode=RGB size=185x278 at 0x1578FD710>\n",
      "\n",
      "\n",
      "Blade Runner (1982)\n",
      "Rating: ⭐⭐⭐ (2.8)\n",
      "<PIL.JpegImagePlugin.JpegImageFile image mode=RGB size=185x278 at 0x1578AA750>\n",
      "\n",
      "\n"
     ]
    }
   ],
   "source": [
    "def get_top_movies(genre, movie_stats, movies):\n",
    "    genre_movies = movies[movies['Genres'].str.contains(genre)]\n",
    "    merged_data = pd.merge(genre_movies, movie_stats, left_on='MovieID', right_index=True)\n",
    "    top_movies = merged_data.sort_values(by='weighted_mean', ascending=False).head(10)\n",
    "    return top_movies\n",
    "\n",
    "movies_columns = ['MovieID', 'Title', 'Genres']\n",
    "movies = pd.read_csv('data/movies.dat', sep='::', engine='python', names=movies_columns, encoding='ISO-8859-1')\n",
    "\n",
    "ratings_columns = ['UserID', 'MovieID', 'Rating', 'Timestamp']\n",
    "ratings = pd.read_csv('data/ratings.dat', sep='::', engine='python', names=ratings_columns, encoding='ISO-8859-1')\n",
    "\n",
    "genre = 'Sci-Fi'  # Replace this with your preferred genre\n",
    "\n",
    "# Load and preprocess the data\n",
    "data = pd.merge(ratings, movies, on='MovieID')\n",
    "movie_stats = data.groupby('MovieID').agg({'Rating': ['mean', 'count']})\n",
    "movie_stats.columns = ['mean', 'count']\n",
    "genre_median_ratings = data.groupby('Genres')['Rating'].count().median()\n",
    "movie_stats['weighted_mean'] = (\n",
    "    (movie_stats['mean'] * movie_stats['count']) / (movie_stats['count'] + genre_median_ratings)\n",
    ")\n",
    "\n",
    "top_movies = get_top_movies(genre, movie_stats, movies)\n",
    "\n",
    "print(f\"Top 10 Highly-Rated Movies in {genre}\")\n",
    "for _, row in top_movies.iterrows():\n",
    "    movie_id = row['MovieID']\n",
    "    title = row['Title']\n",
    "    rating = row['weighted_mean']\n",
    "    image_url = get_movie_image_url(movie_id)\n",
    "\n",
    "    print(f\"{title}\")\n",
    "    print(f\"Rating: {rating_to_stars(rating)} ({rating:.1f})\")\n",
    "    print(image_url)\n",
    "    print(\"\\n\")"
   ]
  },
  {
   "cell_type": "markdown",
   "id": "9a520075-f626-4660-a89b-7726620f7b83",
   "metadata": {},
   "source": [
    "# System 2"
   ]
  },
  {
   "cell_type": "code",
   "execution_count": 4,
   "id": "ad293a75-b344-4e7a-947a-41408be7cefd",
   "metadata": {},
   "outputs": [],
   "source": [
    "# Step 1: Load and Normalize the rating matrix\n",
    "R = pd.read_csv('ratings.csv', index_col=0)\n",
    "# R_normalized = R.sub(R.mean(axis=1), axis=0).fillna(0)\n",
    "R_centered = R.sub(R.mean(axis=1), axis=0)"
   ]
  },
  {
   "cell_type": "markdown",
   "id": "108d2287-154f-4be7-9409-45d6d8bee05d",
   "metadata": {},
   "source": [
    "This code creates the cosine similarity and writes it to a separate file"
   ]
  },
  {
   "cell_type": "code",
   "execution_count": null,
   "id": "5b1d5ebc-9eeb-4e8b-b35f-a0e96283bfc5",
   "metadata": {},
   "outputs": [],
   "source": [
    "S = pd.DataFrame(index=R_centered.columns, columns=R_centered.columns)\n",
    "num_movies = len(R_centered.columns)\n",
    "\n",
    "for i in range(num_movies):\n",
    "    for j in range(i, num_movies):  # Note: Only compute upper triangle to avoid redundancy\n",
    "        users_ij = R_centered.index[(R_centered.iloc[:, i].notna()) & (R_centered.iloc[:, j].notna())]\n",
    "\n",
    "        if len(users_ij) > 2:\n",
    "            # Extract columns as 1D arrays\n",
    "            movie_i_ratings = R_centered.loc[users_ij, R_centered.columns[i]].values.reshape(1, -1)\n",
    "            movie_j_ratings = R_centered.loc[users_ij, R_centered.columns[j]].values.reshape(1, -1)\n",
    "\n",
    "            cos_sim = cosine_similarity(movie_i_ratings, movie_j_ratings)\n",
    "            similarity = (1 + cos_sim[0][0]) / 2\n",
    "            S.at[R_centered.columns[i], R_centered.columns[j]] = similarity\n",
    "            S.at[R_centered.columns[j], R_centered.columns[i]] = similarity\n",
    "\n",
    "# Save the similarity matrix to a CSV file\n",
    "S.to_csv('cosine_similarity_matrix.csv')"
   ]
  },
  {
   "cell_type": "code",
   "execution_count": 5,
   "id": "07880b69-eca4-4a9a-bdaf-1f0358f97369",
   "metadata": {},
   "outputs": [],
   "source": [
    "# S.to_csv('similarity_matrix.csv')\n",
    "S = pd.read_csv('cosine_similarity_matrix.csv', index_col=0)"
   ]
  },
  {
   "cell_type": "code",
   "execution_count": 6,
   "id": "28a63563-3ebd-43c1-8878-fe3d5b92e10a",
   "metadata": {},
   "outputs": [],
   "source": [
    "np.fill_diagonal(S.values, np.nan)"
   ]
  },
  {
   "cell_type": "code",
   "execution_count": 7,
   "id": "93234795-78ed-404b-a508-7be2f5db6238",
   "metadata": {},
   "outputs": [],
   "source": [
    "# Sort each row, keeping the top 30 values and setting the rest to NA\n",
    "S_top30 = pd.DataFrame(np.nan, index=S.index, columns=S.columns)\n",
    "for i in S.index:\n",
    "    row = S.loc[i, :].copy()\n",
    "    row_sorted = row.sort_values(ascending=False)\n",
    "    S_top30.loc[i, row_sorted.index[:30]] = row_sorted[:30]\n",
    "\n",
    "# Save the modified similarity matrix to a CSV file\n",
    "S_top30.to_csv('modified_similarity_matrix.csv')"
   ]
  },
  {
   "cell_type": "code",
   "execution_count": 8,
   "id": "fddf7049-68ef-4c86-a3e4-dfded4427225",
   "metadata": {},
   "outputs": [
    {
     "name": "stdout",
     "output_type": "stream",
     "text": [
      "             m1       m10      m100  m1510      m260  m3212\n",
      "m1          NaN  0.512105  0.392000    NaN  0.741148    NaN\n",
      "m10    0.512105       NaN  0.547458    NaN  0.534334    NaN\n",
      "m100   0.392000  0.547458       NaN    NaN  0.329694    NaN\n",
      "m1510       NaN       NaN       NaN    NaN       NaN    NaN\n",
      "m260   0.741148  0.534334  0.329694    NaN       NaN    NaN\n",
      "m3212       NaN       NaN       NaN    NaN       NaN    NaN\n"
     ]
    }
   ],
   "source": [
    "movies_to_display = [\"m1\", \"m10\", \"m100\", \"m1510\", \"m260\", \"m3212\"]\n",
    "pairwise_similarities = S.loc[movies_to_display, movies_to_display]\n",
    "print(pairwise_similarities.round(7))"
   ]
  },
  {
   "cell_type": "code",
   "execution_count": 9,
   "id": "341884cc-20c7-402a-ae87-2da41d7eef8f",
   "metadata": {},
   "outputs": [],
   "source": [
    "S_top30 = pd.read_csv('modified_similarity_matrix.csv')\n",
    "S_top30 = S_top30.iloc[:,1:]"
   ]
  },
  {
   "cell_type": "code",
   "execution_count": 10,
   "id": "9be0afa3-1866-4a64-a21b-518f288a454b",
   "metadata": {},
   "outputs": [],
   "source": [
    "user_hypothetical = (R.loc['u1351', :])\n",
    "user_hypothetical['m1613'] = 5\n",
    "user_hypothetical['m1755'] = 4"
   ]
  },
  {
   "cell_type": "code",
   "execution_count": 11,
   "id": "64557cea-2d46-42f1-832b-91cbcc8042d2",
   "metadata": {},
   "outputs": [
    {
     "name": "stdout",
     "output_type": "stream",
     "text": [
      "Index(['m1036', 'm1084', 'm111', 'm1204', 'm1209', 'm1221', 'm1233', 'm1240',\n",
      "       'm1252', 'm1272'],\n",
      "      dtype='object')\n",
      "Index(['m1242', 'm1675', 'm2242', 'm2304', 'm3058', 'm3092', 'm3137', 'm318',\n",
      "       'm3508', 'm3746'],\n",
      "      dtype='object')\n",
      "Index(['m1036', 'm1197', 'm1613', 'm2762', 'm2804', 'm34', 'm50', 'm1196',\n",
      "       'm1357', 'm1617'],\n",
      "      dtype='object')\n"
     ]
    }
   ],
   "source": [
    "print(myIBCF(R.loc['u1181'].values))\n",
    "print(myIBCF(R.loc['u1351'].values))\n",
    "print(myIBCF(user_hypothetical))"
   ]
  },
  {
   "cell_type": "markdown",
   "id": "156aa466-ac7b-4c84-a6ea-03d7e72090c1",
   "metadata": {},
   "source": [
    "### This last segment is just to imitate what would happen in the web app"
   ]
  },
  {
   "cell_type": "code",
   "execution_count": 12,
   "id": "68d94bbf-3174-4479-8fd0-050d2aedfc42",
   "metadata": {},
   "outputs": [],
   "source": [
    "temp = [np.nan]*50\n",
    "full_list = temp + [np.nan] * (3706 - len(temp))\n",
    "full_list[2] = 3\n",
    "full_list = pd.Series(full_list)"
   ]
  },
  {
   "cell_type": "code",
   "execution_count": 13,
   "id": "1a69db78-aa53-468d-889b-f7c8bf619269",
   "metadata": {},
   "outputs": [
    {
     "data": {
      "text/plain": [
       "[2626, 2994, 691, 100, 1085, 113, 1572, 1582, 1585, 1622]"
      ]
     },
     "execution_count": 13,
     "metadata": {},
     "output_type": "execute_result"
    }
   ],
   "source": [
    "templist = myIBCF(full_list)\n",
    "cleaned_list = [int(index[1:]) for index in templist]\n",
    "cleaned_list"
   ]
  },
  {
   "cell_type": "code",
   "execution_count": 14,
   "id": "b6d68a10-a8e4-4271-b0d4-ff32b8daa228",
   "metadata": {},
   "outputs": [],
   "source": [
    "movies_columns = ['movie_id', 'title', 'genres']\n",
    "movies = pd.read_csv('data/movies.dat', sep='::', engine='python', names=movies_columns, encoding='ISO-8859-1')\n",
    "movies['movie_id'] = movies['movie_id'].astype(int)"
   ]
  },
  {
   "cell_type": "code",
   "execution_count": 15,
   "id": "0a2e90c2-77c4-4578-ad33-24f866fe9804",
   "metadata": {},
   "outputs": [
    {
     "data": {
      "text/html": [
       "<div>\n",
       "<style scoped>\n",
       "    .dataframe tbody tr th:only-of-type {\n",
       "        vertical-align: middle;\n",
       "    }\n",
       "\n",
       "    .dataframe tbody tr th {\n",
       "        vertical-align: top;\n",
       "    }\n",
       "\n",
       "    .dataframe thead th {\n",
       "        text-align: right;\n",
       "    }\n",
       "</style>\n",
       "<table border=\"1\" class=\"dataframe\">\n",
       "  <thead>\n",
       "    <tr style=\"text-align: right;\">\n",
       "      <th></th>\n",
       "      <th>movie_id</th>\n",
       "      <th>title</th>\n",
       "      <th>genres</th>\n",
       "    </tr>\n",
       "  </thead>\n",
       "  <tbody>\n",
       "    <tr>\n",
       "      <th>0</th>\n",
       "      <td>2626</td>\n",
       "      <td>Edge of Seventeen (1998)</td>\n",
       "      <td>Comedy|Drama|Romance</td>\n",
       "    </tr>\n",
       "    <tr>\n",
       "      <th>1</th>\n",
       "      <td>2994</td>\n",
       "      <td>City, The (1998)</td>\n",
       "      <td>Drama</td>\n",
       "    </tr>\n",
       "    <tr>\n",
       "      <th>2</th>\n",
       "      <td>691</td>\n",
       "      <td>Mrs. Winterbourne (1996)</td>\n",
       "      <td>Comedy|Romance</td>\n",
       "    </tr>\n",
       "    <tr>\n",
       "      <th>3</th>\n",
       "      <td>100</td>\n",
       "      <td>City Hall (1996)</td>\n",
       "      <td>Drama|Thriller</td>\n",
       "    </tr>\n",
       "    <tr>\n",
       "      <th>4</th>\n",
       "      <td>1085</td>\n",
       "      <td>Old Man and the Sea, The (1958)</td>\n",
       "      <td>Adventure|Drama</td>\n",
       "    </tr>\n",
       "    <tr>\n",
       "      <th>5</th>\n",
       "      <td>113</td>\n",
       "      <td>Before and After (1996)</td>\n",
       "      <td>Drama|Mystery</td>\n",
       "    </tr>\n",
       "    <tr>\n",
       "      <th>6</th>\n",
       "      <td>1572</td>\n",
       "      <td>Contempt (Le Mépris) (1963)</td>\n",
       "      <td>Drama</td>\n",
       "    </tr>\n",
       "    <tr>\n",
       "      <th>7</th>\n",
       "      <td>1582</td>\n",
       "      <td>Wild America (1997)</td>\n",
       "      <td>Adventure|Children's</td>\n",
       "    </tr>\n",
       "    <tr>\n",
       "      <th>8</th>\n",
       "      <td>1585</td>\n",
       "      <td>Love Serenade (1996)</td>\n",
       "      <td>Comedy</td>\n",
       "    </tr>\n",
       "    <tr>\n",
       "      <th>9</th>\n",
       "      <td>1622</td>\n",
       "      <td>Kicked in the Head (1997)</td>\n",
       "      <td>Comedy|Drama</td>\n",
       "    </tr>\n",
       "  </tbody>\n",
       "</table>\n",
       "</div>"
      ],
      "text/plain": [
       "  movie_id                            title                genres\n",
       "0     2626         Edge of Seventeen (1998)  Comedy|Drama|Romance\n",
       "1     2994                 City, The (1998)                 Drama\n",
       "2      691         Mrs. Winterbourne (1996)        Comedy|Romance\n",
       "3      100                 City Hall (1996)        Drama|Thriller\n",
       "4     1085  Old Man and the Sea, The (1958)       Adventure|Drama\n",
       "5      113          Before and After (1996)         Drama|Mystery\n",
       "6     1572      Contempt (Le Mépris) (1963)                 Drama\n",
       "7     1582              Wild America (1997)  Adventure|Children's\n",
       "8     1585             Love Serenade (1996)                Comedy\n",
       "9     1622        Kicked in the Head (1997)          Comedy|Drama"
      ]
     },
     "execution_count": 15,
     "metadata": {},
     "output_type": "execute_result"
    }
   ],
   "source": [
    "tempmovies = movies[movies['movie_id'].isin(cleaned_list)]\n",
    "\n",
    "# Reorder the rows in the tempmovies DataFrame based on the shuffled list\n",
    "tempmovies.loc[:, 'movie_id'] = pd.Categorical(tempmovies['movie_id'], categories=cleaned_list, ordered=True)\n",
    "tempmovies = tempmovies.sort_values(by='movie_id').reset_index(drop=True)\n",
    "tempmovies"
   ]
  }
 ],
 "metadata": {
  "kernelspec": {
   "display_name": "Python 3 (ipykernel)",
   "language": "python",
   "name": "python3"
  },
  "language_info": {
   "codemirror_mode": {
    "name": "ipython",
    "version": 3
   },
   "file_extension": ".py",
   "mimetype": "text/x-python",
   "name": "python",
   "nbconvert_exporter": "python",
   "pygments_lexer": "ipython3",
   "version": "3.11.6"
  }
 },
 "nbformat": 4,
 "nbformat_minor": 5
}
