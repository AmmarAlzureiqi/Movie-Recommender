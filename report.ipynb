{
 "cells": [
  {
   "cell_type": "code",
   "execution_count": 1,
   "id": "21afde40-16ad-4d2e-96f8-b095f09f98be",
   "metadata": {},
   "outputs": [],
   "source": [
    "import pandas as pd\n",
    "import requests\n",
    "from PIL import Image"
   ]
  },
  {
   "cell_type": "markdown",
   "id": "dd0586ae-3bcb-44c7-b6be-72c93c838731",
   "metadata": {},
   "source": [
    "### Helper Functions"
   ]
  },
  {
   "cell_type": "code",
   "execution_count": 2,
   "id": "fa7da658-0794-4473-a172-8302aeb477f6",
   "metadata": {},
   "outputs": [],
   "source": [
    "def get_displayed_movies():\n",
    "    return movies.head(50)\n",
    "\n",
    "def get_recommended_movies(new_user_ratings):\n",
    "    return movies.head(10)\n",
    "\n",
    "def get_popular_movies(genre: str):\n",
    "    if genre == genres[1]:\n",
    "        return movies.head(10)\n",
    "    else: \n",
    "        return movies[10:20]\n",
    "\n",
    "def get_movie_image_url(movie_id):\n",
    "    img = Image.open(f\"movies_folder/{movie_id}.jpg\")\n",
    "    return img\n",
    "\n",
    "# Function to get top movies for the selected genre\n",
    "def get_top_movies(genre, movie_stats, movies, top_n=10):\n",
    "    # Filter movies by the selected genre\n",
    "    genre_movies = movies[movies['Genres'].str.contains(genre)]\n",
    "    # Join with the movie stats\n",
    "    genre_movies_stats = genre_movies.join(movie_stats, on='MovieID')\n",
    "    # Filter movies with more than a threshold of ratings to avoid movies with few high ratings\n",
    "    popular_movies = genre_movies_stats[genre_movies_stats['count'] > 100]\n",
    "    # Get the top N movies by average rating\n",
    "    top_movies = popular_movies.sort_values(by='mean', ascending=False).head(top_n)\n",
    "    return top_movies\n",
    "\n",
    "def rating_to_stars(rating):\n",
    "    full_stars = int(rating)\n",
    "    half_star = \"⭐\" if rating - full_stars >= 0.5 else \"\"\n",
    "    return '⭐' * full_stars + half_star"
   ]
  },
  {
   "cell_type": "markdown",
   "id": "f4a81a04-58a0-4ed2-a352-417da0f5ec95",
   "metadata": {},
   "source": [
    "# System 1"
   ]
  },
  {
   "cell_type": "markdown",
   "id": "acdc9710-81be-4f45-884e-bc16ab60780c",
   "metadata": {},
   "source": [
    "Here we select the top 10 movies of each genre based on a weighted average of the ratings via:\n",
    "\n",
    "(mean_ratings * count) / (count + median)\n",
    "\n",
    "where:\n",
    "- mean_ratings is the mean of the ratings for the movie\n",
    "- count is the number of reviews for this movie\n",
    "- median is the median number of reviews for movies in this genre\n",
    "\n",
    "This weighted rating is how we deal with movies that receive only one 5-point review be considered highly rated and such.\n",
    "\n",
    "(notes: the get_top_movies function was altered from the one above used in streamlit in order for it to work in the notebook)"
   ]
  },
  {
   "cell_type": "code",
   "execution_count": 3,
   "id": "165b38ab-0e24-4b35-bd18-b881bd9ad829",
   "metadata": {},
   "outputs": [
    {
     "name": "stdout",
     "output_type": "stream",
     "text": [
      "Top 10 Highly-Rated Movies in Sci-Fi\n",
      "Star Wars: Episode IV - A New Hope (1977)\n",
      "Rating: ⭐⭐⭐ (3.4)\n",
      "<PIL.JpegImagePlugin.JpegImageFile image mode=RGB size=185x278 at 0x12712E750>\n",
      "\n",
      "\n",
      "Star Wars: Episode V - The Empire Strikes Back (1980)\n",
      "Rating: ⭐⭐⭐ (3.2)\n",
      "<PIL.JpegImagePlugin.JpegImageFile image mode=RGB size=185x278 at 0x12712FA90>\n",
      "\n",
      "\n",
      "Matrix, The (1999)\n",
      "Rating: ⭐⭐⭐ (3.1)\n",
      "<PIL.JpegImagePlugin.JpegImageFile image mode=RGB size=185x278 at 0x12712E510>\n",
      "\n",
      "\n",
      "Star Wars: Episode VI - Return of the Jedi (1983)\n",
      "Rating: ⭐⭐⭐ (3.0)\n",
      "<PIL.JpegImagePlugin.JpegImageFile image mode=RGB size=185x278 at 0x12712F950>\n",
      "\n",
      "\n",
      "Terminator 2: Judgment Day (1991)\n",
      "Rating: ⭐⭐⭐ (3.0)\n",
      "<PIL.JpegImagePlugin.JpegImageFile image mode=RGB size=185x278 at 0x12712F810>\n",
      "\n",
      "\n",
      "Back to the Future (1985)\n",
      "Rating: ⭐⭐⭐ (2.9)\n",
      "<PIL.JpegImagePlugin.JpegImageFile image mode=RGB size=185x278 at 0x12712DED0>\n",
      "\n",
      "\n",
      "Terminator, The (1984)\n",
      "Rating: ⭐⭐⭐ (2.8)\n",
      "<PIL.JpegImagePlugin.JpegImageFile image mode=RGB size=185x278 at 0x12712E750>\n",
      "\n",
      "\n",
      "Alien (1979)\n",
      "Rating: ⭐⭐⭐ (2.8)\n",
      "<PIL.JpegImagePlugin.JpegImageFile image mode=RGB size=185x278 at 0x12712D590>\n",
      "\n",
      "\n",
      "E.T. the Extra-Terrestrial (1982)\n",
      "Rating: ⭐⭐⭐ (2.8)\n",
      "<PIL.JpegImagePlugin.JpegImageFile image mode=RGB size=185x278 at 0x12712F950>\n",
      "\n",
      "\n",
      "Blade Runner (1982)\n",
      "Rating: ⭐⭐⭐ (2.8)\n",
      "<PIL.JpegImagePlugin.JpegImageFile image mode=RGB size=185x278 at 0x12712E510>\n",
      "\n",
      "\n"
     ]
    }
   ],
   "source": [
    "import pandas as pd\n",
    "\n",
    "def get_top_movies(genre, movie_stats, movies):\n",
    "    genre_movies = movies[movies['Genres'].str.contains(genre)]\n",
    "    merged_data = pd.merge(genre_movies, movie_stats, left_on='MovieID', right_index=True)\n",
    "    top_movies = merged_data.sort_values(by='weighted_mean', ascending=False).head(10)\n",
    "    return top_movies\n",
    "\n",
    "movies_columns = ['MovieID', 'Title', 'Genres']\n",
    "movies = pd.read_csv('data/movies.dat', sep='::', engine='python', names=movies_columns, encoding='ISO-8859-1')\n",
    "\n",
    "ratings_columns = ['UserID', 'MovieID', 'Rating', 'Timestamp']\n",
    "ratings = pd.read_csv('data/ratings.dat', sep='::', engine='python', names=ratings_columns, encoding='ISO-8859-1')\n",
    "\n",
    "genre = 'Sci-Fi'  # Replace this with your preferred genre\n",
    "\n",
    "# Load and preprocess the data\n",
    "data = pd.merge(ratings, movies, on='MovieID')\n",
    "movie_stats = data.groupby('MovieID').agg({'Rating': ['mean', 'count']})\n",
    "movie_stats.columns = ['mean', 'count']\n",
    "genre_median_ratings = data.groupby('Genres')['Rating'].count().median()\n",
    "movie_stats['weighted_mean'] = (\n",
    "    (movie_stats['mean'] * movie_stats['count']) / (movie_stats['count'] + genre_median_ratings)\n",
    ")\n",
    "\n",
    "top_movies = get_top_movies(genre, movie_stats, movies)\n",
    "\n",
    "print(f\"Top 10 Highly-Rated Movies in {genre}\")\n",
    "for _, row in top_movies.iterrows():\n",
    "    movie_id = row['MovieID']\n",
    "    title = row['Title']\n",
    "    rating = row['weighted_mean']\n",
    "    image_url = get_movie_image_url(movie_id)\n",
    "\n",
    "    print(f\"{title}\")\n",
    "    print(f\"Rating: {rating_to_stars(rating)} ({rating:.1f})\")\n",
    "    print(image_url)\n",
    "    print(\"\\n\")\n",
    "\n",
    "\n"
   ]
  },
  {
   "cell_type": "markdown",
   "id": "459a523c-f667-46b2-a6a9-fbe0a171b59f",
   "metadata": {},
   "source": [
    "# System 2"
   ]
  },
  {
   "cell_type": "code",
   "execution_count": null,
   "id": "2856b9d4-d8b9-4d83-9d37-d3e92f5aa94e",
   "metadata": {},
   "outputs": [],
   "source": []
  },
  {
   "cell_type": "code",
   "execution_count": null,
   "id": "96d721c6-aa16-4825-bc0b-614613226f5b",
   "metadata": {},
   "outputs": [],
   "source": []
  }
 ],
 "metadata": {
  "kernelspec": {
   "display_name": "Python 3 (ipykernel)",
   "language": "python",
   "name": "python3"
  },
  "language_info": {
   "codemirror_mode": {
    "name": "ipython",
    "version": 3
   },
   "file_extension": ".py",
   "mimetype": "text/x-python",
   "name": "python",
   "nbconvert_exporter": "python",
   "pygments_lexer": "ipython3",
   "version": "3.11.6"
  }
 },
 "nbformat": 4,
 "nbformat_minor": 5
}
